{
 "cells": [
  {
   "cell_type": "code",
   "execution_count": 11,
   "metadata": {},
   "outputs": [],
   "source": [
    "import joblib\n",
    "from architecture import MLP\n",
    "import torch\n",
    "import pandas as pd\n",
    "import json"
   ]
  },
  {
   "cell_type": "code",
   "execution_count": 12,
   "metadata": {},
   "outputs": [
    {
     "data": {
      "text/plain": [
       "<All keys matched successfully>"
      ]
     },
     "execution_count": 12,
     "metadata": {},
     "output_type": "execute_result"
    }
   ],
   "source": [
    "model = MLP(input_dim=26, num_classes=2)\n",
    "model.load_state_dict(torch.load('loan_approval_model.pth'))\n"
   ]
  },
  {
   "cell_type": "code",
   "execution_count": null,
   "metadata": {},
   "outputs": [
    {
     "name": "stdout",
     "output_type": "stream",
     "text": [
      "   Age  AnnualIncome  CreditScore  EmploymentStatus  EducationLevel  \\\n",
      "0   30         60000          700                 0               1   \n",
      "\n",
      "   Experience  LoanAmount  LoanDuration  MaritalStatus  NumberOfDependents  \\\n",
      "0          10       20000            36              1                   0   \n",
      "\n",
      "   ...  MonthlyIncome  JobTenure  NetWorth  BaseInterestRate  InterestRate  \\\n",
      "0  ...           4000          5    150000               3.5           5.0   \n",
      "\n",
      "   MonthlyLoanPayment  TotalIncome  CreditScore_Income  \\\n",
      "0                 600        75000            42000000   \n",
      "\n",
      "   DebtToIncome_CreditScore  InterestRate_LoanDuration  \n",
      "0                       NaN                        NaN  \n",
      "\n",
      "[1 rows x 26 columns]\n",
      "The model predicts that the loan will not be approved.\n"
     ]
    },
    {
     "name": "stderr",
     "output_type": "stream",
     "text": [
      "c:\\Users\\adity\\AppData\\Local\\Programs\\Python\\Python312\\Lib\\site-packages\\sklearn\\base.py:376: InconsistentVersionWarning: Trying to unpickle estimator LabelEncoder from version 1.6.1 when using version 1.4.0. This might lead to breaking code or invalid results. Use at your own risk. For more info please refer to:\n",
      "https://scikit-learn.org/stable/model_persistence.html#security-maintainability-limitations\n",
      "  warnings.warn(\n"
     ]
    }
   ],
   "source": [
    "def get_user_inputs():\n",
    "    # Define which columns are numeric and which are categorical\n",
    "    numeric_cols = [\n",
    "        'Age', 'AnnualIncome', 'CreditScore', 'Experience', 'LoanAmount',\n",
    "        'LoanDuration', 'MonthlyDebtPayments',\n",
    "         'SavingsAccountBalance', 'CheckingAccountBalance', 'MonthlyIncome', 'JobTenure', 'NetWorth',\n",
    "        'BaseInterestRate', 'InterestRate', 'MonthlyLoanPayment',\n",
    "    ]\n",
    "    cat_cols = ['EmploymentStatus', 'EducationLevel', 'MaritalStatus', 'LoanPurpose', 'HomeOwnershipStatus']\n",
    "    \n",
    "    \n",
    "    # user_data = {}\n",
    "    # Collect numeric inputs\n",
    "    # for col in numeric_cols:\n",
    "    #     val = input(f\"Enter numeric value for {col}: \")\n",
    "    #     try:\n",
    "    #         user_data[col] = float(val)\n",
    "    #     except ValueError:\n",
    "    #         print(f\"Invalid numeric input for {col}.\")\n",
    "    #         return None\n",
    "    # # Increase CreditScore weight for user input (match training)\n",
    "    # user_data['CreditScore'] = user_data['CreditScore'] * 2\n",
    "    \n",
    "    # Load pre-fitted label encoders for categorical columns\n",
    "    label_encoders = joblib.load('label_encoders.joblib')\n",
    "    \n",
    "    # Process categorical inputs using LabelEncoder(s)\n",
    "    # for col in cat_cols:\n",
    "    #     options = list(label_encoders[col].classes_)\n",
    "    #     print(f\"Options for {col}: {options}\")\n",
    "    #     val = input(f\"Enter category for {col}: \")\n",
    "    #     try:\n",
    "    #         user_data[col] = int(label_encoders[col].transform([val])[0])\n",
    "    #     except Exception:\n",
    "    #         print(f\"Invalid input for {col}.\")\n",
    "    #         return None\n",
    "        \n",
    "    # if JSON input is used, the following code can be used to load the user data\n",
    "    def get_JSON_input(example_input):\n",
    "        with open(example_input, 'r') as f:\n",
    "            user_data = json.load(f)\n",
    "            \n",
    "        # use label encoders to transform categorical columns\n",
    "        for col in cat_cols:\n",
    "            user_data[col] = int(label_encoders[col].transform([user_data[col]])[0])\n",
    "        return user_data\n",
    "    \n",
    "    user_data = get_JSON_input('example_input.json')\n",
    "    \n",
    "    # ...existing feature engineering code...\n",
    "    user_data['TotalIncome'] = user_data['AnnualIncome'] + user_data['SavingsAccountBalance'] + user_data['CheckingAccountBalance']\n",
    "    user_data['DebtToIncomeRatio'] = user_data['MonthlyDebtPayments'] / (user_data['MonthlyIncome'] + 1e-5)\n",
    "    user_data['CreditScore_Income'] = user_data['CreditScore'] * user_data['AnnualIncome']\n",
    "    user_data['DebtToIncome_CreditScore'] = user_data['DebtToIncomeRatio'] * user_data['CreditScore']\n",
    "    user_data['InterestRate_LoanDuration'] = user_data['InterestRate'] * user_data['LoanDuration']\n",
    "\n",
    "    user_df = pd.DataFrame([user_data])\n",
    "    # Rearrange columns to match training order\n",
    "    list_order = ['Age',\n",
    "    'AnnualIncome',\n",
    "    'CreditScore',\n",
    "    'EmploymentStatus',\n",
    "    'EducationLevel',\n",
    "    'Experience',\n",
    "    'LoanAmount',\n",
    "    'LoanDuration',\n",
    "    'MaritalStatus',\n",
    "    'NumberOfDependents',\n",
    "    'HomeOwnershipStatus',\n",
    "    'MonthlyDebtPayments',\n",
    "    'DebtToIncomeRatio',\n",
    "    'LoanPurpose',\n",
    "    'SavingsAccountBalance',\n",
    "    'CheckingAccountBalance',\n",
    "    'MonthlyIncome',\n",
    "    'JobTenure',\n",
    "    'NetWorth',\n",
    "    'BaseInterestRate',\n",
    "    'InterestRate',\n",
    "    'MonthlyLoanPayment',\n",
    "    'TotalIncome',\n",
    "    'CreditScore_Income',\n",
    "    'DebtToIncome_CreditScore',\n",
    "    'InterestRate_LoanDuration']\n",
    "    user_df = user_df.reindex(columns=list_order)\n",
    "    \n",
    "    # Check if any column contains NaN values and raise an error if so\n",
    "    if user_df.isnull().any().any():\n",
    "        raise ValueError(\"Input data contains NaN values\")\n",
    "    \n",
    "    # Load preprocessor and apply transformation\n",
    "    preprocessor = joblib.load('loan_approval_preprocessor.joblib')\n",
    "    user_preprocessed = preprocessor.transform(user_df)\n",
    "    \n",
    "    # Convert to PyTorch tensor\n",
    "    user_tensor = torch.tensor(user_preprocessed.tolist(), dtype=torch.float32)\n",
    "    return user_tensor\n",
    "\n",
    "# Example usage:\n",
    "user_tensor = get_user_inputs()\n",
    "if user_tensor is not None:\n",
    "    with torch.no_grad():\n",
    "        model.eval()\n",
    "        prediction = model(user_tensor)\n",
    "        # Get the predicted target by selecting the index with the highest logit\n",
    "        # print(\"Prediction:\", prediction)\n",
    "        predicted_class = torch.argmax(prediction, dim=1)\n",
    "        # print(\"Predicted class:\", predicted_class.item())\n",
    "        if predicted_class.item() == 0:\n",
    "            print(\"The model predicts that the loan will not be approved.\")\n",
    "        else:\n",
    "            print(\"The model predicts that the loan will be approved.\")"
   ]
  },
  {
   "cell_type": "markdown",
   "metadata": {},
   "source": [
    "The model ultimately takes 26 input features that combine both raw and engineered data. Here's what each one means:\n",
    "\n",
    "1. Age – The applicant’s age in years.  \n",
    "2. AnnualIncome – The applicant’s yearly earnings.  \n",
    "3. CreditScore – A measure of creditworthiness (and it’s later doubled to amplify its effect).  \n",
    "4. EmploymentStatus – A categorical feature (e.g. \"employed,\" \"self-employed,\" \"unemployed\") converted to numeric.  \n",
    "5. EducationLevel – A categorical indicator (e.g. \"bachelor,\" \"master,\" etc.) encoded as a number.  \n",
    "6. Experience – Years of work or professional experience.  \n",
    "7. LoanAmount – The amount of money the applicant is asking to borrow.  \n",
    "8. LoanDuration – The term or duration of the loan (typically in months).  \n",
    "9. MaritalStatus – Another categorical feature (e.g. \"married,\" \"single\") encoded as a number.  \n",
    "10. NumberOfDependents – The number of dependents the applicant has.  \n",
    "11. HomeOwnershipStatus – Categorical status of home ownership (e.g. \"own,\" \"rent\") encoded numerically.  \n",
    "12. MonthlyDebtPayments – Total monthly payments on existing debts.  \n",
    "13. DebtToIncomeRatio – The ratio of monthly debt obligations to monthly income.  \n",
    "14. LoanPurpose – Categorical reason for the loan (for instance, \"auto\" or \"education\") encoded numerically.  \n",
    "15. SavingsAccountBalance – Current balance in savings accounts.  \n",
    "16. CheckingAccountBalance – Current balance in checking accounts.  \n",
    "17. MonthlyIncome – The income the applicant earns each month.  \n",
    "18. JobTenure – How long the applicant has been at their current job.  \n",
    "19. NetWorth – The overall net worth of the applicant (assets minus liabilities).  \n",
    "20. BaseInterestRate – A benchmark or base interest rate used in the loan calculations.  \n",
    "21. InterestRate – The specific interest rate applied to the applicant’s loan.  \n",
    "22. MonthlyLoanPayment – The expected monthly amount to be paid if the loan is approved.  \n",
    "23. TotalIncome – An engineered feature computed as AnnualIncome plus SavingsAccountBalance and CheckingAccountBalance.  \n",
    "24. CreditScore_Income – Another engineered feature calculated as CreditScore multiplied by AnnualIncome (capturing the combined effect of credit history and earnings).  \n",
    "25. DebtToIncome_CreditScore – The product of DebtToIncomeRatio and CreditScore, which helps adjust debt load relative to creditworthiness.  \n",
    "26. InterestRate_LoanDuration – The product of InterestRate and LoanDuration, giving a sense of the overall cost of borrowing over time.\n",
    "\n",
    "These features, both raw and derived, allow the model to capture different aspects of an applicant's financial profile to predict loan approval reliably."
   ]
  },
  {
   "cell_type": "markdown",
   "metadata": {},
   "source": [
    "The warning indicates a version mismatch between the scikit-learn version used to pickle the LabelEncoder (1.6.1) and the one currently in use (1.4.0). This may result in breaking changes or invalid results. For further details, please refer to:\n",
    "https://scikit-learn.org/stable/model_persistence.html#security-maintainability-limitations"
   ]
  }
 ],
 "metadata": {
  "kernelspec": {
   "display_name": "Python 3",
   "language": "python",
   "name": "python3"
  },
  "language_info": {
   "codemirror_mode": {
    "name": "ipython",
    "version": 3
   },
   "file_extension": ".py",
   "mimetype": "text/x-python",
   "name": "python",
   "nbconvert_exporter": "python",
   "pygments_lexer": "ipython3",
   "version": "3.12.0"
  }
 },
 "nbformat": 4,
 "nbformat_minor": 2
}
